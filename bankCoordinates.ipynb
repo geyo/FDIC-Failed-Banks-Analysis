{
 "cells": [
  {
   "cell_type": "code",
   "execution_count": 1,
   "id": "41a39e02",
   "metadata": {},
   "outputs": [],
   "source": [
    "import pandas as pd\n",
    "from geopy.geocoders import Nominatim"
   ]
  },
  {
   "cell_type": "code",
   "execution_count": 2,
   "id": "77844551",
   "metadata": {},
   "outputs": [],
   "source": [
    "# File to load \n",
    "banklocations_data_to_load = \"banklocations.csv\""
   ]
  },
  {
   "cell_type": "code",
   "execution_count": 3,
   "id": "ce41d151",
   "metadata": {},
   "outputs": [
    {
     "data": {
      "text/html": [
       "<div>\n",
       "<style scoped>\n",
       "    .dataframe tbody tr th:only-of-type {\n",
       "        vertical-align: middle;\n",
       "    }\n",
       "\n",
       "    .dataframe tbody tr th {\n",
       "        vertical-align: top;\n",
       "    }\n",
       "\n",
       "    .dataframe thead th {\n",
       "        text-align: right;\n",
       "    }\n",
       "</style>\n",
       "<table border=\"1\" class=\"dataframe\">\n",
       "  <thead>\n",
       "    <tr style=\"text-align: right;\">\n",
       "      <th></th>\n",
       "      <th>Fund</th>\n",
       "      <th>Bank Name</th>\n",
       "      <th>City</th>\n",
       "      <th>State</th>\n",
       "      <th>Location</th>\n",
       "    </tr>\n",
       "  </thead>\n",
       "  <tbody>\n",
       "    <tr>\n",
       "      <th>0</th>\n",
       "      <td>10540</td>\n",
       "      <td>Signature Bank</td>\n",
       "      <td>New York</td>\n",
       "      <td>NY</td>\n",
       "      <td>New York, NY</td>\n",
       "    </tr>\n",
       "    <tr>\n",
       "      <th>1</th>\n",
       "      <td>10539</td>\n",
       "      <td>Silicon Valley Bank</td>\n",
       "      <td>Santa Clara</td>\n",
       "      <td>CA</td>\n",
       "      <td>Santa Clara, CA</td>\n",
       "    </tr>\n",
       "    <tr>\n",
       "      <th>2</th>\n",
       "      <td>10538</td>\n",
       "      <td>Almena State Bank</td>\n",
       "      <td>Almena</td>\n",
       "      <td>KS</td>\n",
       "      <td>Almena, KS</td>\n",
       "    </tr>\n",
       "    <tr>\n",
       "      <th>3</th>\n",
       "      <td>10537</td>\n",
       "      <td>First City Bank of Florida</td>\n",
       "      <td>Fort Walton Beach</td>\n",
       "      <td>FL</td>\n",
       "      <td>Fort Walton Beach, FL</td>\n",
       "    </tr>\n",
       "    <tr>\n",
       "      <th>4</th>\n",
       "      <td>10536</td>\n",
       "      <td>The First State Bank</td>\n",
       "      <td>Barboursville</td>\n",
       "      <td>WV</td>\n",
       "      <td>Barboursville, WV</td>\n",
       "    </tr>\n",
       "  </tbody>\n",
       "</table>\n",
       "</div>"
      ],
      "text/plain": [
       "    Fund                  Bank Name               City  State   \\\n",
       "0  10540              Signature Bank           New York     NY   \n",
       "1  10539         Silicon Valley Bank        Santa Clara     CA   \n",
       "2  10538           Almena State Bank             Almena     KS   \n",
       "3  10537  First City Bank of Florida  Fort Walton Beach     FL   \n",
       "4  10536        The First State Bank      Barboursville     WV   \n",
       "\n",
       "                Location  \n",
       "0           New York, NY  \n",
       "1        Santa Clara, CA  \n",
       "2             Almena, KS  \n",
       "3  Fort Walton Beach, FL  \n",
       "4      Barboursville, WV  "
      ]
     },
     "execution_count": 3,
     "metadata": {},
     "output_type": "execute_result"
    }
   ],
   "source": [
    "# Read the CSV file into a pandas DataFrame\n",
    "df = pd.read_csv(banklocations_data_to_load, encoding='ANSI')\n",
    "df.head()"
   ]
  },
  {
   "cell_type": "code",
   "execution_count": 5,
   "id": "5dbcad72",
   "metadata": {
    "scrolled": true
   },
   "outputs": [],
   "source": [
    "# Initialize the Nominatim geocoder\n",
    "geolocator = Nominatim(user_agent='my-app', timeout=10)\n",
    "\n",
    "# Create two new columns to store the latitude and longitude values\n",
    "df['Latitude'] = ''\n",
    "df['Longitude'] = ''\n",
    "\n",
    "# Loop through each row in the DataFrame\n",
    "for i, row in df.iterrows():\n",
    "    \n",
    "    # Combine the city and state into a single string\n",
    "    location = geolocator.geocode(row['Location'])\n",
    "    if location is not None:\n",
    "        \n",
    "        # If the location is found, get the latitude and longitude\n",
    "        df.at[i, 'Latitude'] = location.latitude\n",
    "        df.at[i, 'Longitude'] = location.longitude\n",
    "    \n",
    "# Save the updated DataFrame to a new CSV file\n",
    "df.to_csv('banks_with_coordinates.csv', index=False)"
   ]
  },
  {
   "cell_type": "code",
   "execution_count": null,
   "id": "507169bb",
   "metadata": {},
   "outputs": [],
   "source": []
  }
 ],
 "metadata": {
  "kernelspec": {
   "display_name": "Python 3 (ipykernel)",
   "language": "python",
   "name": "python3"
  },
  "language_info": {
   "codemirror_mode": {
    "name": "ipython",
    "version": 3
   },
   "file_extension": ".py",
   "mimetype": "text/x-python",
   "name": "python",
   "nbconvert_exporter": "python",
   "pygments_lexer": "ipython3",
   "version": "3.9.16"
  }
 },
 "nbformat": 4,
 "nbformat_minor": 5
}
