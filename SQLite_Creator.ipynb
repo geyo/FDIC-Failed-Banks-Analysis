{
 "cells": [
  {
   "cell_type": "code",
   "execution_count": 7,
   "id": "b7f5759a",
   "metadata": {},
   "outputs": [],
   "source": [
    "import pandas as pd\n",
    "import requests\n",
    "import sqlalchemy as sql"
   ]
  },
  {
   "cell_type": "code",
   "execution_count": 8,
   "id": "22e199a7",
   "metadata": {},
   "outputs": [],
   "source": [
    "#Create a SQLite database\n",
    "engine = sql.create_engine('sqlite:///data/banksdb.sqlite')"
   ]
  },
  {
   "cell_type": "code",
   "execution_count": 9,
   "id": "57cf2de0",
   "metadata": {},
   "outputs": [],
   "source": [
    "# Loop through each CSV file and insert into a table in the database\n",
    "for csv_file in ['static\\\\data\\\\balance_sheets_for_database.csv', \\\n",
    "                 'static\\\\data\\\\bank_data.csv', \\\n",
    "                 'static\\\\data\\\\banklist.csv', \\\n",
    "                 'static\\\\data\\\\banklist_for_dropdowndemo.csv',\\\n",
    "                 'static\\\\data\\\\trendchart.csv', \n",
    "                 'static\\\\data\\\\updated_banks_with_coordinates_qbfasset.csv']:\n",
    "    # Read CSV file into a pandas dataframe\n",
    "    df = pd.read_csv(csv_file)\n",
    "\n",
    "    # Extract table name from CSV filename without the source_data\\\\ prefix\n",
    "    table_name = csv_file.split(\"static\\\\data\\\\\")[-1].split('.')[0]\n",
    "\n",
    "    # Insert the dataframe into the database table\n",
    "    df.to_sql(table_name, engine, if_exists='replace', index=False)\n"
   ]
  },
  {
   "cell_type": "code",
   "execution_count": 10,
   "id": "f226d686",
   "metadata": {},
   "outputs": [
    {
     "name": "stderr",
     "output_type": "stream",
     "text": [
      "C:\\Users\\grace\\AppData\\Local\\Temp\\ipykernel_24040\\1901508692.py:2: SADeprecationWarning: The Engine.table_names() method is deprecated and will be removed in a future release.  Please refer to Inspector.get_table_names(). (deprecated since: 1.4)\n",
      "  table_names = engine.table_names()\n"
     ]
    },
    {
     "data": {
      "text/plain": [
       "['balance_sheets_for_database',\n",
       " 'bank_data',\n",
       " 'banklist',\n",
       " 'banklist_for_dropdowndemo',\n",
       " 'trendchart',\n",
       " 'updated_banks_with_coordinates_qbfasset']"
      ]
     },
     "execution_count": 10,
     "metadata": {},
     "output_type": "execute_result"
    }
   ],
   "source": [
    "# Test that data was inputted - get table names\n",
    "table_names = engine.table_names()\n",
    "table_names"
   ]
  },
  {
   "cell_type": "code",
   "execution_count": 11,
   "id": "51b7adc1",
   "metadata": {},
   "outputs": [],
   "source": [
    "# Close the database connection\n",
    "engine.dispose()"
   ]
  },
  {
   "cell_type": "code",
   "execution_count": null,
   "id": "9e1ed302",
   "metadata": {},
   "outputs": [],
   "source": []
  }
 ],
 "metadata": {
  "kernelspec": {
   "display_name": "Python 3 (ipykernel)",
   "language": "python",
   "name": "python3"
  },
  "language_info": {
   "codemirror_mode": {
    "name": "ipython",
    "version": 3
   },
   "file_extension": ".py",
   "mimetype": "text/x-python",
   "name": "python",
   "nbconvert_exporter": "python",
   "pygments_lexer": "ipython3",
   "version": "3.9.16"
  }
 },
 "nbformat": 4,
 "nbformat_minor": 5
}
